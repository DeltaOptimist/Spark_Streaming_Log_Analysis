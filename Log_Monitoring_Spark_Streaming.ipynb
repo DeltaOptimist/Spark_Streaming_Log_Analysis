{
  "nbformat": 4,
  "nbformat_minor": 0,
  "metadata": {
    "colab": {
      "provenance": []
    },
    "kernelspec": {
      "name": "python3",
      "display_name": "Python 3"
    },
    "language_info": {
      "name": "python"
    }
  },
  "cells": [
    {
      "cell_type": "code",
      "source": [
        "pip install pyspark"
      ],
      "metadata": {
        "colab": {
          "base_uri": "https://localhost:8080/"
        },
        "id": "UhSTZSJ4j8XN",
        "outputId": "31a894b6-0641-466e-f40d-cd7740175369"
      },
      "execution_count": 2,
      "outputs": [
        {
          "output_type": "stream",
          "name": "stdout",
          "text": [
            "Collecting pyspark\n",
            "  Downloading pyspark-3.5.2.tar.gz (317.3 MB)\n",
            "\u001b[2K     \u001b[90m━━━━━━━━━━━━━━━━━━━━━━━━━━━━━━━━━━━━━━━━\u001b[0m \u001b[32m317.3/317.3 MB\u001b[0m \u001b[31m1.4 MB/s\u001b[0m eta \u001b[36m0:00:00\u001b[0m\n",
            "\u001b[?25h  Preparing metadata (setup.py) ... \u001b[?25l\u001b[?25hdone\n",
            "Requirement already satisfied: py4j==0.10.9.7 in /usr/local/lib/python3.10/dist-packages (from pyspark) (0.10.9.7)\n",
            "Building wheels for collected packages: pyspark\n",
            "  Building wheel for pyspark (setup.py) ... \u001b[?25l\u001b[?25hdone\n",
            "  Created wheel for pyspark: filename=pyspark-3.5.2-py2.py3-none-any.whl size=317812365 sha256=eb9ce5a2be02dcc09fd4502cb59f87001ae47535a40fa1ea067a150cab56c0bd\n",
            "  Stored in directory: /root/.cache/pip/wheels/34/34/bd/03944534c44b677cd5859f248090daa9fb27b3c8f8e5f49574\n",
            "Successfully built pyspark\n",
            "Installing collected packages: pyspark\n",
            "Successfully installed pyspark-3.5.2\n"
          ]
        }
      ]
    },
    {
      "cell_type": "code",
      "source": [
        "from pyspark.sql import SparkSession\n",
        "from pyspark.sql.functions import col\n",
        "import os\n",
        "import time\n",
        "\n",
        "# Initialize Spark Session\n",
        "spark = SparkSession.builder.master(\"local\").appName(\"LogMonitoring\").getOrCreate()\n",
        "\n",
        "# Directory to simulate streaming log data\n",
        "log_dir = \"/content/log_data\" # Changed to a directory\n",
        "if not os.path.exists(log_dir):\n",
        "    os.mkdir(log_dir)\n",
        "\n",
        "# Read streaming data from the log directory\n",
        "log_data = spark.readStream.text(log_dir)\n",
        "\n",
        "# Filter for ERROR and WARNING messages\n",
        "filtered_logs = log_data.filter((col(\"value\").contains(\"ERROR\")) | (col(\"value\").contains(\"WARNING\")))\n",
        "\n",
        "# Output the filtered logs to the console\n",
        "query = filtered_logs.writeStream.outputMode(\"append\").format(\"console\").start()\n",
        "\n",
        "# Simulate log file creation\n",
        "for i in range(5):\n",
        "    with open(f\"{log_dir}/log_file_{i}.txt\", \"w\") as f: # Write files into the directory\n",
        "        f.write(f\"This is log entry {i}\\nWARNING: Something went wrong!\\n\")\n",
        "    time.sleep(10)\n",
        "\n",
        "# Wait for the streaming to finish\n",
        "query.awaitTermination(60)"
      ],
      "metadata": {
        "colab": {
          "base_uri": "https://localhost:8080/"
        },
        "id": "BfhYnEVzl1vM",
        "outputId": "f04a83b0-cd78-40dd-9857-c7fa8a82e15f"
      },
      "execution_count": 1,
      "outputs": [
        {
          "output_type": "execute_result",
          "data": {
            "text/plain": [
              "False"
            ]
          },
          "metadata": {},
          "execution_count": 1
        }
      ]
    },
    {
      "cell_type": "code",
      "source": [],
      "metadata": {
        "id": "z05HdW6qmSTv"
      },
      "execution_count": null,
      "outputs": []
    }
  ]
}